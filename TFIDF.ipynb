{
 "cells": [
  {
   "cell_type": "markdown",
   "metadata": {},
   "source": [
    "# Tính TFIDF cho từng văn bản đầu vào"
   ]
  },
  {
   "cell_type": "code",
   "execution_count": null,
   "metadata": {},
   "outputs": [],
   "source": [
    "import pandas as pd\n",
    "from sklearn.feature_extraction.text import TfidfTransformer\n",
    "from sklearn.feature_extraction.text import CountVectorizer \n",
    "\n",
    "file = open(\"dictionary.txt\",  encoding=\"utf8\")\n",
    "strs = file.read().split(\"\\n\")\n",
    "strs=strs[:len(strs)-1]\n",
    "keys=[]\n",
    "for line in strs:\n",
    "    s=line.split(\" \")\n",
    "    keys.append(s[0])\n",
    "    \n",
    "    \n",
    "import os\n",
    "path=os.getcwd()\n",
    "path+=\"\\clean-data\\\\train\"\n",
    "paths=os.listdir(path)\n",
    "strs =[]\n",
    "for p in paths:\n",
    "    file = open(path+\"\\\\\"+p,  encoding=\"utf8\")\n",
    "    strTmp=file.read().split(\"\\n\")\n",
    "    x=len(strTmp)\n",
    "    strs+=strTmp[:x-1]\n",
    "\n",
    "\n",
    "cv=CountVectorizer(vocabulary=keys)\n",
    "word_count_vector=cv.fit_transform(strs)\n",
    "tfidf_transformer=TfidfTransformer(smooth_idf=True,use_idf=True) \n",
    "tfidf_transformer.fit(word_count_vector)\n",
    "\n",
    "def computing_tfidf(s):\n",
    "    input_s =[]\n",
    "    input_s.append(s)\n",
    "    count_vector=cv.transform(input_s) \n",
    "    tf_idf_vector=tfidf_transformer.transform(count_vector)\n",
    "    values=tf_idf_vector.toarray().tolist()[0]\n",
    "    dictionary = dict(zip(keys, values))\n",
    "    return dictionary"
   ]
  },
  {
   "cell_type": "markdown",
   "metadata": {},
   "source": [
    "demo gọi hàm tính TFIDF"
   ]
  },
  {
   "cell_type": "code",
   "execution_count": null,
   "metadata": {},
   "outputs": [],
   "source": [
    "s=\"toi la thanh\"\n",
    "dic=computing_tfidf(s)\n",
    "print(dic['thanh'])"
   ]
  }
 ],
 "metadata": {
  "kernelspec": {
   "display_name": "Python 3",
   "language": "python",
   "name": "python3"
  },
  "language_info": {
   "codemirror_mode": {
    "name": "ipython",
    "version": 3
   },
   "file_extension": ".py",
   "mimetype": "text/x-python",
   "name": "python",
   "nbconvert_exporter": "python",
   "pygments_lexer": "ipython3",
   "version": "3.8.5"
  }
 },
 "nbformat": 4,
 "nbformat_minor": 4
}
